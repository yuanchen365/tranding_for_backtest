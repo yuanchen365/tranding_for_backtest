{
 "cells": [
  {
   "cell_type": "markdown",
   "metadata": {
    "slideshow": {
     "slide_type": "slide"
    }
   },
   "source": [
    "# Shioaji Quote Api with Tensorflow\n",
    "\n",
    "![shioaji-logo](https://sinotrade.github.io/images/shioaji-logo-01.png)![tensorflow-logo](https://upload.wikimedia.org/wikipedia/commons/thumb/2/2d/Tensorflow_logo.svg/224px-Tensorflow_logo.svg.png)"
   ]
  },
  {
   "cell_type": "code",
   "execution_count": 1,
   "metadata": {
    "slideshow": {
     "slide_type": "subslide"
    }
   },
   "outputs": [],
   "source": [
    "import json\n",
    "import datetime as dt\n",
    "import numpy as np\n",
    "import pandas as pd\n",
    "import bqplot as bq\n",
    "import shioaji as sj\n",
    "from ipywidgets import HBox, VBox"
   ]
  },
  {
   "cell_type": "code",
   "execution_count": 2,
   "metadata": {
    "slideshow": {
     "slide_type": "fragment"
    }
   },
   "outputs": [],
   "source": [
    "import tensorflow as tf\n",
    "from tensorflow.keras.layers import Conv2D, MaxPool2D, Dropout, Dense, Input, Flatten\n",
    "from tensorflow.keras.models import Model\n",
    "from tensorflow.keras.optimizers import Adam\n",
    "from tensorflow.keras.losses import categorical_crossentropy"
   ]
  },
  {
   "cell_type": "markdown",
   "metadata": {
    "slideshow": {
     "slide_type": "subslide"
    }
   },
   "source": [
    "## Build simple convolution neural network model that convolution through time"
   ]
  },
  {
   "cell_type": "code",
   "execution_count": 4,
   "metadata": {
    "slideshow": {
     "slide_type": "fragment"
    }
   },
   "outputs": [],
   "source": [
    "input_layer = Input(shape=(500, 6, 1), name='input')\n",
    "conv1 = Conv2D(filters=8, kernel_size=(4, 1), activation='relu', name='conv1')(input_layer)\n",
    "conv2 = Conv2D(filters=16, kernel_size=(4, 1), activation='relu', name='conv2')(conv1)\n",
    "maxp1 = MaxPool2D(pool_size=(4, 1), name='maxp1')(conv2)\n",
    "conv3 = Conv2D(filters=32, kernel_size=(4, 1), activation='relu', name='conv3')(maxp1)\n",
    "conv4 = Conv2D(filters=64, kernel_size=(4, 1), activation='relu', name='conv4')(conv3)\n",
    "maxp2 = MaxPool2D(pool_size=(4, 1), name='maxp2')(conv4)\n",
    "conv5 = Conv2D(filters=64, kernel_size=(4, 1), activation='relu', name='conv5')(maxp2)\n",
    "conv6 = Conv2D(filters=128, kernel_size=(4, 1), activation='relu', name='conv6')(conv5)\n",
    "maxp3 = MaxPool2D(pool_size=(4, 1), name='maxp3')(conv6)\n",
    "conv7 = Conv2D(filters=256, kernel_size=(2, 1), activation='relu', name='conv7')(maxp3)\n",
    "conv8 = Conv2D(filters=256, kernel_size=(2, 1), activation='relu', name='conv8')(conv7)\n",
    "maxp4 = MaxPool2D(pool_size=(2, 1), name='maxp4')(conv8)\n",
    "flat = Flatten(name='flat')(maxp4)\n",
    "dropout1 = Dropout(rate=0.4, name='dropout1')(flat)\n",
    "fc1 = Dense(256, activation='relu', name='fc1')(dropout1)\n",
    "dropout2 = Dropout(rate=0.4, name='dropout2')(fc1)\n",
    "fc2 = Dense(3, activation='softmax', name='fc2')(dropout2)"
   ]
  },
  {
   "cell_type": "markdown",
   "metadata": {
    "slideshow": {
     "slide_type": "subslide"
    }
   },
   "source": [
    "## The Model Structure"
   ]
  },
  {
   "cell_type": "code",
   "execution_count": 5,
   "metadata": {
    "slideshow": {
     "slide_type": "fragment"
    }
   },
   "outputs": [
    {
     "name": "stdout",
     "output_type": "stream",
     "text": [
      "_________________________________________________________________\n",
      "Layer (type)                 Output Shape              Param #   \n",
      "=================================================================\n",
      "input (InputLayer)           (None, 500, 6, 1)         0         \n",
      "_________________________________________________________________\n",
      "conv1 (Conv2D)               (None, 497, 6, 8)         40        \n",
      "_________________________________________________________________\n",
      "conv2 (Conv2D)               (None, 494, 6, 16)        528       \n",
      "_________________________________________________________________\n",
      "maxp1 (MaxPooling2D)         (None, 123, 6, 16)        0         \n",
      "_________________________________________________________________\n",
      "conv3 (Conv2D)               (None, 120, 6, 32)        2080      \n",
      "_________________________________________________________________\n",
      "conv4 (Conv2D)               (None, 117, 6, 64)        8256      \n",
      "_________________________________________________________________\n",
      "maxp2 (MaxPooling2D)         (None, 29, 6, 64)         0         \n",
      "_________________________________________________________________\n",
      "conv5 (Conv2D)               (None, 26, 6, 64)         16448     \n",
      "_________________________________________________________________\n",
      "conv6 (Conv2D)               (None, 23, 6, 128)        32896     \n",
      "_________________________________________________________________\n",
      "maxp3 (MaxPooling2D)         (None, 5, 6, 128)         0         \n",
      "_________________________________________________________________\n",
      "conv7 (Conv2D)               (None, 4, 6, 256)         65792     \n",
      "_________________________________________________________________\n",
      "conv8 (Conv2D)               (None, 3, 6, 256)         131328    \n",
      "_________________________________________________________________\n",
      "maxp4 (MaxPooling2D)         (None, 1, 6, 256)         0         \n",
      "_________________________________________________________________\n",
      "flat (Flatten)               (None, 1536)              0         \n",
      "_________________________________________________________________\n",
      "dropout1 (Dropout)           (None, 1536)              0         \n",
      "_________________________________________________________________\n",
      "fc1 (Dense)                  (None, 256)               393472    \n",
      "_________________________________________________________________\n",
      "dropout2 (Dropout)           (None, 256)               0         \n",
      "_________________________________________________________________\n",
      "fc2 (Dense)                  (None, 3)                 771       \n",
      "=================================================================\n",
      "Total params: 651,611\n",
      "Trainable params: 651,611\n",
      "Non-trainable params: 0\n",
      "_________________________________________________________________\n"
     ]
    }
   ],
   "source": [
    "model = Model(inputs=[input_layer], outputs=[fc2])\n",
    "model.summary()"
   ]
  },
  {
   "cell_type": "markdown",
   "metadata": {
    "slideshow": {
     "slide_type": "subslide"
    }
   },
   "source": [
    "## Load the trained model weights"
   ]
  },
  {
   "cell_type": "code",
   "execution_count": 6,
   "metadata": {
    "slideshow": {
     "slide_type": "fragment"
    }
   },
   "outputs": [],
   "source": [
    "model.load_weights('simplecnn.h5')"
   ]
  },
  {
   "cell_type": "code",
   "execution_count": 3,
   "metadata": {
    "slideshow": {
     "slide_type": "subslide"
    }
   },
   "outputs": [],
   "source": [
    "def load_model():\n",
    "    global model, graph\n",
    "    graph = tf.get_default_graph()\n",
    "    with graph.as_default():\n",
    "        input_layer = Input(shape=(500, 6, 1), name='input')\n",
    "        conv1 = Conv2D(filters=8, kernel_size=(4, 1), activation='relu', name='conv1')(input_layer)\n",
    "        conv2 = Conv2D(filters=16, kernel_size=(4, 1), activation='relu', name='conv2')(conv1)\n",
    "        maxp1 = MaxPool2D(pool_size=(4, 1), name='maxp1')(conv2)\n",
    "        conv3 = Conv2D(filters=32, kernel_size=(4, 1), activation='relu', name='conv3')(maxp1)\n",
    "        conv4 = Conv2D(filters=64, kernel_size=(4, 1), activation='relu', name='conv4')(conv3)\n",
    "        maxp2 = MaxPool2D(pool_size=(4, 1), name='maxp2')(conv4)\n",
    "        conv5 = Conv2D(filters=64, kernel_size=(4, 1), activation='relu', name='conv5')(maxp2)\n",
    "        conv6 = Conv2D(filters=128, kernel_size=(4, 1), activation='relu', name='conv6')(conv5)\n",
    "        maxp3 = MaxPool2D(pool_size=(4, 1), name='maxp3')(conv6)\n",
    "        conv7 = Conv2D(filters=256, kernel_size=(2, 1), activation='relu', name='conv7')(maxp3)\n",
    "        conv8 = Conv2D(filters=256, kernel_size=(2, 1), activation='relu', name='conv8')(conv7)\n",
    "        maxp4 = MaxPool2D(pool_size=(2, 1), name='maxp4')(conv8)\n",
    "        flat = Flatten(name='flat')(maxp4)\n",
    "        dropout1 = Dropout(rate=0.4, name='dropout1')(flat)\n",
    "        fc1 = Dense(256, activation='relu', name='fc1')(dropout1)\n",
    "        dropout2 = Dropout(rate=0.4, name='dropout2')(fc1)\n",
    "        fc2 = Dense(3, activation='softmax', name='fc2')(dropout2)\n",
    "        model = Model(inputs=[input_layer], outputs=[fc2])\n",
    "        model.load_weights('simplecnn.h5')"
   ]
  },
  {
   "cell_type": "markdown",
   "metadata": {
    "slideshow": {
     "slide_type": "slide"
    }
   },
   "source": [
    "## Init shioaji api and login"
   ]
  },
  {
   "cell_type": "code",
   "execution_count": 4,
   "metadata": {
    "slideshow": {
     "slide_type": "fragment"
    }
   },
   "outputs": [],
   "source": [
    "api = sj.Shioaji(simulation=False)"
   ]
  },
  {
   "cell_type": "code",
   "execution_count": 5,
   "metadata": {
    "slideshow": {
     "slide_type": "fragment"
    }
   },
   "outputs": [],
   "source": [
    "with open('login.json', 'r') as f:\n",
    "    kw_login = json.loads(f.read())\n",
    "api.login(**kw_login)"
   ]
  },
  {
   "cell_type": "markdown",
   "metadata": {
    "slideshow": {
     "slide_type": "subslide"
    }
   },
   "source": [
    "## Init Charts dataset"
   ]
  },
  {
   "cell_type": "code",
   "execution_count": 6,
   "metadata": {
    "slideshow": {
     "slide_type": "fragment"
    }
   },
   "outputs": [],
   "source": [
    "tick_plot_length = 150\n",
    "df_norm = pd.read_hdf('normalizer.h5')\n",
    "norm_min = df_norm.loc['min'].values\n",
    "norm_range = df_norm.loc['max'].values - norm_min\n",
    "\n",
    "model_input_tick_num = 500\n",
    "features_num = 6\n",
    "np_features = np.zeros((model_input_tick_num, features_num))\n",
    "pred_data = np.zeros((tick_plot_length, 3))"
   ]
  },
  {
   "cell_type": "code",
   "execution_count": 7,
   "metadata": {
    "slideshow": {
     "slide_type": "skip"
    }
   },
   "outputs": [],
   "source": [
    "today = dt.date.today()\n",
    "df_min = pd.DataFrame(index=pd.date_range(start=dt.datetime(*(today.year, today.month, today.day, 8, 45)),\n",
    "                                          end=dt.datetime(*(today.year, today.month, today.day, 13, 45)),\n",
    "                                          freq='1T'),\n",
    "                      columns=['open', 'high', 'low', 'close'], dtype=float,\n",
    "                     )"
   ]
  },
  {
   "cell_type": "code",
   "execution_count": 8,
   "metadata": {
    "slideshow": {
     "slide_type": "skip"
    }
   },
   "outputs": [],
   "source": [
    "last_close = 10200\n",
    "\n",
    "x_tick_index = np.arange(tick_plot_length)\n",
    "y_price = np.zeros((tick_plot_length,)) + last_close\n",
    "y_vol = np.zeros((tick_plot_length,))\n",
    "updown_color = np.zeros((tick_plot_length,)) + 1 \n",
    "askbid_color_data = np.zeros((tick_plot_length,))"
   ]
  },
  {
   "cell_type": "code",
   "execution_count": 9,
   "metadata": {
    "slideshow": {
     "slide_type": "skip"
    }
   },
   "outputs": [],
   "source": [
    "new_index = 0\n",
    "new_deal_price = 1\n",
    "new_vol = 1\n",
    "new_updown_color = 1\n",
    "new_askbid_color_data = 1\n",
    "ask_price = 0\n",
    "bid_price = 0"
   ]
  },
  {
   "cell_type": "code",
   "execution_count": 10,
   "metadata": {
    "slideshow": {
     "slide_type": "skip"
    }
   },
   "outputs": [],
   "source": [
    "ask_bid_period_length = 500\n",
    "ask_bid_static = np.zeros((6, ask_bid_period_length))\n",
    "large_ask_deal_volsum = 0\n",
    "small_ask_deal_volsum = 0\n",
    "large_bid_deal_volsum = 0\n",
    "small_bid_deal_volsum = 0\n",
    "ask_deal_count = 0\n",
    "bid_deal_count = 0"
   ]
  },
  {
   "cell_type": "code",
   "execution_count": 11,
   "metadata": {
    "slideshow": {
     "slide_type": "skip"
    }
   },
   "outputs": [],
   "source": [
    "bid_color = '#ff0000'\n",
    "ask_color = '#03ba00'\n",
    "x_bar_data = np.zeros(10)\n",
    "y_bar_data = np.zeros(10, dtype=np.int64)\n",
    "color_bar_data = np.array(['#000000' for i in range(10)])\n",
    "y_bar_data_diff = np.zeros(10, dtype=np.int64)"
   ]
  },
  {
   "cell_type": "code",
   "execution_count": 12,
   "metadata": {
    "slideshow": {
     "slide_type": "fragment"
    }
   },
   "outputs": [],
   "source": [
    "data_in = np.random.rand(2)\n",
    "data_inner = np.random.rand(2)\n",
    "data_outer = np.random.rand(4)"
   ]
  },
  {
   "cell_type": "markdown",
   "metadata": {
    "slideshow": {
     "slide_type": "subslide"
    }
   },
   "source": [
    "## define init charts function"
   ]
  },
  {
   "cell_type": "code",
   "execution_count": 13,
   "metadata": {
    "slideshow": {
     "slide_type": "fragment"
    }
   },
   "outputs": [],
   "source": [
    "def init_model_chart():\n",
    "    global model_bar\n",
    "    x_ord = bq.LinearScale()\n",
    "    y_sc = bq.LinearScale()\n",
    "\n",
    "    model_bar = bq.Bars(x=x_tick_index, y=pred_data.T[:, :], \n",
    "                  scales={'x': x_ord, 'y': y_sc},\n",
    "                  colors=['#848484', '#f44242', '#00d100'], type='stacked')\n",
    "    ax_x = bq.Axis(scale=x_ord)\n",
    "    ax_y = bq.Axis(scale=y_sc, tick_format='0.2f', orientation='vertical')\n",
    "\n",
    "    fig = bq.Figure(marks=[model_bar], axes=[ax_x, ax_y],\n",
    "                   fig_margin= {\"top\":60, \"bottom\":30, \"left\":60, \"right\":0},)\n",
    "    fig.layout.height = '200px'\n",
    "    fig.layout.width = '1200px'\n",
    "    return fig"
   ]
  },
  {
   "cell_type": "code",
   "execution_count": 14,
   "metadata": {
    "slideshow": {
     "slide_type": "skip"
    }
   },
   "outputs": [],
   "source": [
    "def init_ohlc_chart():\n",
    "    global ohlc_chart\n",
    "    sc = bq.LinearScale()\n",
    "    dt_scale = bq.DateScale()\n",
    "    ax_x = bq.Axis(label='datetime', scale=dt_scale)\n",
    "    ax_y = bq.Axis(label='price', scale=sc, orientation='vertical', tick_format='0.0f')\n",
    "\n",
    "    # Construct the marks\n",
    "    ohlc_chart = bq.OHLC(x=df_min.index, y=df_min.dropna().values,#df_tick_nosim_min.values[:10], \n",
    "                   marker='candle', scales={'x': dt_scale, 'y': sc}, format='ohlc',\n",
    "                   colors=['red', 'limegreen'], stroke='gray', \n",
    "                   opacities=[0.85 for _ in df_min.index],\n",
    "                   display_legend=True, labels=['TXFD9'])\n",
    "\n",
    "    fig = bq.Figure(axes=[ax_x, ax_y], marks=[ohlc_chart],\n",
    "                   fig_margin= {\"top\":30, \"bottom\":30, \"left\":60, \"right\":60},)\n",
    "    fig.layout.height = '450px'\n",
    "    fig.layout.width = '600px'\n",
    "    return fig"
   ]
  },
  {
   "cell_type": "code",
   "execution_count": 15,
   "metadata": {
    "slideshow": {
     "slide_type": "skip"
    }
   },
   "outputs": [],
   "source": [
    "def init_tickchart():\n",
    "    global line_chart, scatter_chart\n",
    "    global x_tick_index, y_price, y_vol, updown_color, askbid_color_data\n",
    "    x_sc = bq.LinearScale()\n",
    "    y_sc = bq.LinearScale()\n",
    "    sc_size = bq.LinearScale()\n",
    "    color_line = bq.ColorScale(colors=['red', 'gray', 'green'])\n",
    "    c_ord = bq.ColorScale(colors=['gray', 'HotPink', 'SeaGreen'])\n",
    "\n",
    "    line_chart = bq.FlexLine(x=x_tick_index, y=y_price, color=updown_color,\n",
    "                             scales= {'x': x_sc, 'y': y_sc, 'color': color_line}, \n",
    "                             display_legend=True, labels=[\"TXFD9\"])\n",
    "\n",
    "    def_tt = bq.Tooltip(fields=['x', 'y', 'size'], formats=['', '.0f', '.0f'], \n",
    "                        lables=['tick', 'price', 'vol'])\n",
    "\n",
    "    scatter_chart = bq.Scatter(x=x_tick_index, y=y_price, size=y_vol, color=askbid_color_data, \n",
    "                               scales= {'x': x_sc, 'y': y_sc, 'size': sc_size, 'color': c_ord}, \n",
    "                               #colors=['dodgerblue',],\n",
    "                               tooltip=def_tt, lables=['tick', 'price', 'vol'],\n",
    "                               selected_style={'opacity': 1.0,}, #'fill': 'DarkOrange', 'stroke': 'Red'}, \n",
    "                               unselected_style={'opacity': 0.7})\n",
    "\n",
    "    ax_x = bq.Axis(scale=x_sc)\n",
    "    ax_y = bq.Axis(scale=y_sc, orientation='vertical', tick_format='0.0f')\n",
    "    ax_color = bq.ColorAxis(label='updown', scale=color_line, tick_format='.0f')\n",
    "\n",
    "    fig = bq.Figure(marks=[line_chart, scatter_chart], axes=[ax_x, ax_y, ax_color],\n",
    "                    fig_margin= {\"top\":30, \"bottom\":60, \"left\":60, \"right\":60},\n",
    "                    #min_aspect_ratio=1, max_aspect_ratio=3,\n",
    "                    #fig_margin= {\"top\":0, \"bottom\":60, \"left\":60, \"right\":0},\n",
    "                   )\n",
    "    fig.layout.height = '450px'\n",
    "    fig.layout.width = '600px'\n",
    "    return fig"
   ]
  },
  {
   "cell_type": "code",
   "execution_count": 16,
   "metadata": {
    "slideshow": {
     "slide_type": "skip"
    }
   },
   "outputs": [],
   "source": [
    "def bidask_bar_chart():\n",
    "    global x_bar_data, y_bar_data, color_bar_data, y_data_diff\n",
    "    global bar_bidask, bar_bidask_diff\n",
    "    x_ord = bq.OrdinalScale()\n",
    "    y_sc = bq.LinearScale()\n",
    "    stroke_color = '#000000'\n",
    "    bar_bidask = bq.Bars(x=x_bar_data, y=y_bar_data,\n",
    "                         scales={'x': x_ord, 'y': y_sc}, \n",
    "                         stroke=stroke_color, color_mode='group',\n",
    "                         padding=0, colors=color_bar_data.tolist(),\n",
    "                         type='stacked', orientation='horizontal',\n",
    "                         opacities=[0.7 for _ in x_bar_data],\n",
    "                        )\n",
    "    bar_bidask_diff = bq.Bars(x=x_bar_data, y=y_bar_data_diff,\n",
    "                         scales={'x': x_ord, 'y': y_sc}, \n",
    "                         stroke=stroke_color, color_mode='group',\n",
    "                         padding=0, colors=color_bar_data.tolist()[::-1],\n",
    "                         type='stacked', orientation='horizontal',\n",
    "                         opacities=[0.7 for _ in x_bar_data],\n",
    "                        )\n",
    "    ax_x = bq.Axis(scale=x_ord, orientation='vertical')\n",
    "    ax_y = bq.Axis(scale=y_sc, tick_format='0.0f')\n",
    "\n",
    "    fig = bq.Figure(marks=[bar_bidask, bar_bidask_diff], axes=[ax_x, ax_y],\n",
    "                    #min_aspect_ratio=1, max_aspect_ratio=1,\n",
    "                    fig_margin= {\"top\":30, \"bottom\":60, \"left\":60, \"right\":60},\n",
    "                   )\n",
    "    fig.layout.height = '450px'\n",
    "    fig.layout.width = '600px'\n",
    "    return fig"
   ]
  },
  {
   "cell_type": "code",
   "execution_count": 17,
   "metadata": {
    "slideshow": {
     "slide_type": "skip"
    }
   },
   "outputs": [],
   "source": [
    "def pies_chart():\n",
    "    global data_in, data_inner, data_outer\n",
    "    global pie_outer, pie_inner, pie_in\n",
    "    outer_pie_redius = [180, 150]\n",
    "    inner_pie_redius = [100, 70]\n",
    "    in_pie_redius = [50, 10]\n",
    "    pie_outer = bq.Pie(sizes=data_outer, display_labels='outside', apply_clip=False,\n",
    "              radius=outer_pie_redius[0], inner_radius=outer_pie_redius[1], \n",
    "              display_values=True, values_format='.0%', colors=['red', 'limegreen', 'red', 'limegreen'],\n",
    "              labels=['大單委賣成交', '大單委買成交', '小單委賣成交', '小單委買成交'])\n",
    "\n",
    "    pie_inner = bq.Pie(sizes=data_inner, display_labels='inside', apply_clip=False,\n",
    "                    radius=inner_pie_redius[0], inner_radius=inner_pie_redius[1], \n",
    "                    display_values=True, values_format='.0%', colors=['red', 'limegreen'],\n",
    "                    labels=['賣成筆', '買成筆'])\n",
    "\n",
    "    pie_in = bq.Pie(sizes=data_in, display_labels='inside', #apply_clip=False,\n",
    "                    radius=in_pie_redius[0], inner_radius=in_pie_redius[1], \n",
    "                    display_values=True, values_format='.0%', colors=['limegreen', 'red'],\n",
    "                    labels=['賣成口', '買成口'])\n",
    "\n",
    "    fig = bq.Figure(marks=[pie_outer, pie_inner, pie_in], animation_duration=1000,\n",
    "                    #min_aspect_ratio=1, max_aspect_ratio=1.5,\n",
    "                    fig_margin= {\"top\":30, \"bottom\":60, \"left\":60, \"right\":60},\n",
    "                   )\n",
    "    fig.layout.height = '450px'\n",
    "    fig.layout.width = '600px'\n",
    "    return fig"
   ]
  },
  {
   "cell_type": "markdown",
   "metadata": {
    "slideshow": {
     "slide_type": "subslide"
    }
   },
   "source": [
    "## define processing data function"
   ]
  },
  {
   "cell_type": "code",
   "execution_count": 18,
   "metadata": {
    "slideshow": {
     "slide_type": "fragment"
    }
   },
   "outputs": [],
   "source": [
    "def split_data(rec, index):\n",
    "    sp_rec = {}\n",
    "    [sp_rec.update({k: v[index] if isinstance(v, (list, tuple)) else v}) \n",
    "     for k, v in rec.items()]\n",
    "    sp_rec['idx'] = index\n",
    "    return sp_rec\n",
    "\n",
    "def proc_model_data(quote_msg):\n",
    "    global np_features, pred_data\n",
    "    global model, graph\n",
    "    quote_msgs = [split_data(quote_msg, ind) for ind, _ in enumerate(quote_msg['Close'])]\n",
    "    for msg in quote_msgs:\n",
    "        if msg.get('TickType', 0) == 1:\n",
    "            ask_vol, bid_vol = (msg.get('Volume', 0), 0)\n",
    "        elif msg.get('TickType', 0) == 2:\n",
    "            ask_vol, bid_vol = (0, msg.get('Volume', 0))\n",
    "        else:\n",
    "            ask_vol, bid_vol = (0, 0)\n",
    "        np_features[:-1] = np_features[1:]\n",
    "        np_features[-1] = [msg.get('Close', 0), msg.get('DiffPrice', 0), \n",
    "                           msg.get('Volume', 0), msg.get('TargetKindPrice', 0),\n",
    "                           ask_vol, bid_vol,]\n",
    "        input_x = ((np_features - norm_min) / norm_range)[np.newaxis,:,:,np.newaxis]\n",
    "        pred_data[:-1] = pred_data[1:]\n",
    "        with graph.as_default():\n",
    "            model.load_weights('simplecnn.h5')\n",
    "            pred_data[-1] = model.predict(input_x)[0]"
   ]
  },
  {
   "cell_type": "code",
   "execution_count": 19,
   "metadata": {
    "slideshow": {
     "slide_type": "skip"
    }
   },
   "outputs": [],
   "source": [
    "def proc_ohlc_data(quote_msg, new_deal_price):\n",
    "    global df_min\n",
    "    ts = pd.Timestamp(\"{Date} {Time}\" .format(**quote_msg)).replace(second=0, microsecond=0)\n",
    "    df_min.loc[ts, 'open'] = new_deal_price if np.isnan(df_min.loc[ts, 'open']) else df_min.loc[ts, 'open'] \n",
    "    df_min.loc[ts, 'high'] = new_deal_price if np.isnan(df_min.loc[ts, 'high']) or new_deal_price > df_min.loc[ts, 'high'] else df_min.loc[ts, 'high'] \n",
    "    df_min.loc[ts, 'low'] = new_deal_price if np.isnan(df_min.loc[ts, 'low']) or new_deal_price < df_min.loc[ts, 'low'] else df_min.loc[ts, 'low']\n",
    "    df_min.loc[ts, 'close'] = new_deal_price"
   ]
  },
  {
   "cell_type": "code",
   "execution_count": 20,
   "metadata": {
    "slideshow": {
     "slide_type": "skip"
    }
   },
   "outputs": [],
   "source": [
    "def proc_ask_bid_bardata(topic, quote_msg):\n",
    "    global x_bar_data, y_bar_data, color_bar_data, y_data_diff\n",
    "    ask_price = quote_msg.get('AskPrice', [0])[0]\n",
    "    bid_price = quote_msg.get('BidPrice', [0])[0]\n",
    "\n",
    "    x_bar_data[:5] = quote_msg['BidPrice'][::-1]\n",
    "    x_bar_data[5:] = quote_msg['AskPrice']\n",
    "    y_bar_data[:5] = quote_msg['BidVolume'][::-1]\n",
    "    y_bar_data[5:] = quote_msg['AskVolume']\n",
    "    y_bar_data[5:] *= -1\n",
    "    y_bar_data_diff[5:] = quote_msg[\"DiffAskVol\"]\n",
    "    y_bar_data_diff[:5] = quote_msg['DiffBidVol'][::-1]\n",
    "    color_bar_data[:5] = bid_color\n",
    "    color_bar_data[5:] = ask_color"
   ]
  },
  {
   "cell_type": "code",
   "execution_count": 21,
   "metadata": {
    "slideshow": {
     "slide_type": "skip"
    }
   },
   "outputs": [],
   "source": [
    "def proc_tick_chartdata(topic, quote_msg):\n",
    "    global new_index, new_deal_price, new_vol, new_updown_color, new_askbid_color_data\n",
    "    global x_tick_index, y_price, y_vol, updown_color, askbid_color_data\n",
    "    new_index += 1\n",
    "    new_deal_price = quote_msg.get('Close', [0,])[-1]\n",
    "    new_vol = quote_msg.get('Volume', [0,])[-1]\n",
    "    ask_volsum = quote_msg.get('TradeAskVolSum', 0)\n",
    "    bid_volsum = quote_msg.get('TradeBidVolSum', 0)\n",
    "    new_askbid_color_data = quote_msg.get('TickType', [0,])[-1]# 0: -, 1: ask, 2, bid\n",
    "    if new_deal_price > y_price[-1]:\n",
    "        new_updown_color = 0\n",
    "    elif new_deal_price < y_price[-1]:\n",
    "        new_updown_color = 2\n",
    "    else:\n",
    "        new_updown_color = 1\n",
    "        \n",
    "    x_tick_index[:-1] = x_tick_index[1:]\n",
    "    x_tick_index[-1] = new_index\n",
    "    y_price[:-1] = y_price[1:]\n",
    "    y_price[-1] = new_deal_price\n",
    "    y_vol[:-1] = y_vol[1:]\n",
    "    y_vol[-1] = new_vol\n",
    "    updown_color[:-1] = updown_color[1:]\n",
    "    updown_color[-2] = new_updown_color\n",
    "    askbid_color_data[:-1] = askbid_color_data[1:]\n",
    "    askbid_color_data[-1] = new_askbid_color_data"
   ]
  },
  {
   "cell_type": "code",
   "execution_count": 22,
   "metadata": {
    "slideshow": {
     "slide_type": "skip"
    }
   },
   "outputs": [],
   "source": [
    "def proc_ask_bid_staticdata(topic, quote_msg, vol_threshold):\n",
    "    global ask_bid_static\n",
    "    global small_bid_deal_volsum, ask_deal_count, bid_deal_count\n",
    "    ask_volsum = quote_msg.get('TradeAskVolSum', 0)\n",
    "    bid_volsum = quote_msg.get('TradeBidVolSum', 0)\n",
    "    ask_bid_static[:, :-1] = ask_bid_static[:, 1:]\n",
    "    if new_askbid_color_data == 1:\n",
    "        ask_deal_count += 1\n",
    "        ask_bid_static[4][-1] = 1\n",
    "        ask_bid_static[5][-1] = 0\n",
    "        if new_vol >= vol_threshold:\n",
    "            ask_bid_static[0][-1] = new_vol\n",
    "        else:\n",
    "            ask_bid_static[1][-1] = new_vol\n",
    "    elif new_askbid_color_data == 2:\n",
    "        bid_deal_count += 1\n",
    "        ask_bid_static[5][-1] = 1\n",
    "        ask_bid_static[4][-1] = 0\n",
    "        if new_vol >= vol_threshold:\n",
    "            ask_bid_static[2][-1] = new_vol\n",
    "        else:\n",
    "            ask_bid_static[3][-1] = new_vol\n",
    "    \n",
    "    ask_bid_static_sum = ask_bid_static.sum(axis=1)\n",
    "    data_outer = ask_bid_static_sum[:4]\n",
    "    data_inner = ask_bid_static_sum[4:]\n",
    "    data_in = np.array([ask_volsum, bid_volsum])"
   ]
  },
  {
   "cell_type": "markdown",
   "metadata": {
    "slideshow": {
     "slide_type": "subslide"
    }
   },
   "source": [
    "## define update chart function"
   ]
  },
  {
   "cell_type": "code",
   "execution_count": 23,
   "metadata": {
    "slideshow": {
     "slide_type": "fragment"
    }
   },
   "outputs": [],
   "source": [
    "def update_model_chart():\n",
    "    global model_bar\n",
    "    with model_bar.hold_sync():\n",
    "        model_bar.x = x_tick_index.copy()\n",
    "        model_bar.y = pred_data.T.copy()"
   ]
  },
  {
   "cell_type": "code",
   "execution_count": 24,
   "metadata": {
    "slideshow": {
     "slide_type": "skip"
    }
   },
   "outputs": [],
   "source": [
    "def update_ohlc_chart():\n",
    "    global ohlc_chart\n",
    "    ohlc_chart.x = df_min.dropna().index\n",
    "    ohlc_chart.y = df_min.dropna().values"
   ]
  },
  {
   "cell_type": "code",
   "execution_count": 25,
   "metadata": {
    "slideshow": {
     "slide_type": "skip"
    }
   },
   "outputs": [],
   "source": [
    "def update_barchart(x_bar_data, y_bar_data, \n",
    "                    color_bar_data, y_bar_data_diff):\n",
    "    global bar_bidask, bar_bidask_diff\n",
    "    with bar_bidask.hold_sync() and bar_bidask_diff.hold_sync():\n",
    "        bar_bidask.x = x_bar_data.copy()\n",
    "        bar_bidask.y = y_bar_data.copy()\n",
    "        bar_bidask.colors = color_bar_data.tolist()\n",
    "        bar_bidask_diff.x = x_bar_data.copy()\n",
    "        bar_bidask_diff.y = y_bar_data_diff.copy()\n",
    "        bar_bidask_diff.colors = color_bar_data.tolist()[::-1]"
   ]
  },
  {
   "cell_type": "code",
   "execution_count": 26,
   "metadata": {
    "slideshow": {
     "slide_type": "skip"
    }
   },
   "outputs": [],
   "source": [
    "def update_tickandpie_chart(update_freq):\n",
    "    global line_chart, scatter_chart\n",
    "    global pie_outer, pie_inner, pie_in\n",
    "    \n",
    "    if (new_index % update_freq) == 0 and new_index >= tick_plot_length:\n",
    "        with line_chart.hold_sync() and scatter_chart.hold_sync():\n",
    "            line_chart.x = x_tick_index.copy()\n",
    "            line_chart.y = y_price.copy()\n",
    "            line_chart.color = updown_color.copy()\n",
    "            scatter_chart.x = x_tick_index.copy()\n",
    "            scatter_chart.y = y_price.copy()\n",
    "            scatter_chart.size = y_vol.copy() * 10\n",
    "            scatter_chart.color = askbid_color_data.copy()\n",
    "        with pie_outer.hold_sync() and pie_inner.hold_sync() and pie_in.hold_sync():\n",
    "            pie_outer.sizes = data_outer / data_outer.sum()\n",
    "            pie_inner.sizes = data_inner / data_inner.sum()\n",
    "            pie_in.sizes = data_in / data_in.sum()"
   ]
  },
  {
   "cell_type": "markdown",
   "metadata": {
    "slideshow": {
     "slide_type": "subslide"
    }
   },
   "source": [
    "## define on quote callback"
   ]
  },
  {
   "cell_type": "code",
   "execution_count": 27,
   "metadata": {
    "slideshow": {
     "slide_type": "fragment"
    }
   },
   "outputs": [
    {
     "name": "stdout",
     "output_type": "stream",
     "text": [
      "WARNING:tensorflow:From /Users/Tanni/.pyenv/versions/miniconda3-latest/lib/python3.7/site-packages/tensorflow/python/ops/resource_variable_ops.py:435: colocate_with (from tensorflow.python.framework.ops) is deprecated and will be removed in a future version.\n",
      "Instructions for updating:\n",
      "Colocations handled automatically by placer.\n",
      "WARNING:tensorflow:From /Users/Tanni/.pyenv/versions/miniconda3-latest/lib/python3.7/site-packages/tensorflow/python/keras/layers/core.py:143: calling dropout (from tensorflow.python.ops.nn_ops) with keep_prob is deprecated and will be removed in a future version.\n",
      "Instructions for updating:\n",
      "Please use `rate` instead of `keep_prob`. Rate should be set to `rate = 1 - keep_prob`.\n"
     ]
    }
   ],
   "source": [
    "load_model()\n",
    "@sj.on_quote\n",
    "def quote_callback(topic, quote_msg):\n",
    "    global tick_plot_length\n",
    "    global line_chart, scatter_chart\n",
    "    global pie_outer, pie_inner, pie_in\n",
    "    global x_tick_index, y_price, y_vol, updown_color, askbid_color_data\n",
    "    global new_index, new_deal_price, new_vol, new_updown_color, new_askbid_color_data\n",
    "    global ask_price, bid_price\n",
    "    global large_ask_deal_volsum, small_ask_deal_volsum, large_bid_deal_volsum\n",
    "    global small_bid_deal_volsum, ask_deal_count, bid_deal_count\n",
    "    global ask_bid_static\n",
    "    global bar_bidask, bar_bidask_diff\n",
    "    global x_bar_data, y_bar_data, color_bar_data, y_data_diff\n",
    "    global ohlc_chart, df_min\n",
    "    global model, graph, init_model\n",
    "    vol_threshold = 10\n",
    "    #print(topic, quote_msg)\n",
    "    if topic.startswith('Q') and 'TXFD9' in topic:\n",
    "        proc_ask_bid_bardata(topic, quote_msg)\n",
    "        update_barchart(x_bar_data, y_bar_data, \n",
    "                        color_bar_data, y_bar_data_diff)\n",
    "        \n",
    "    elif topic.startswith('L') and 'TXFD9' in topic:\n",
    "        proc_tick_chartdata(topic, quote_msg)\n",
    "        proc_ask_bid_staticdata(topic, quote_msg, vol_threshold)\n",
    "        proc_ohlc_data(quote_msg, new_deal_price)\n",
    "        proc_model_data(quote_msg)\n",
    "        update_ohlc_chart()\n",
    "        update_tickandpie_chart(update_freq=1)\n",
    "        update_model_chart()"
   ]
  },
  {
   "cell_type": "markdown",
   "metadata": {
    "slideshow": {
     "slide_type": "subslide"
    }
   },
   "source": [
    "## define event callback"
   ]
  },
  {
   "cell_type": "code",
   "execution_count": 28,
   "metadata": {
    "slideshow": {
     "slide_type": "fragment"
    }
   },
   "outputs": [],
   "source": [
    "@sj.on_event\n",
    "def event_callback(resp_code, event_code, event):\n",
    "    print(\"Respone Code: {} | Event Code: {} | Event: {}\".format(resp_code, event_code, event))"
   ]
  },
  {
   "cell_type": "markdown",
   "metadata": {
    "slideshow": {
     "slide_type": "subslide"
    }
   },
   "source": [
    "## set callback function"
   ]
  },
  {
   "cell_type": "code",
   "execution_count": 29,
   "metadata": {
    "slideshow": {
     "slide_type": "fragment"
    }
   },
   "outputs": [],
   "source": [
    "api.quote.set_callback(quote_callback)\n",
    "api.quote.set_event_callback(event_callback)"
   ]
  },
  {
   "cell_type": "code",
   "execution_count": 14,
   "metadata": {
    "slideshow": {
     "slide_type": "skip"
    }
   },
   "outputs": [],
   "source": [
    "pie_in.label_color = '#fff'\n",
    "pie_inner.label_color = '#fff'\n",
    "pie_outer.label_color = '#fff'"
   ]
  },
  {
   "cell_type": "markdown",
   "metadata": {
    "slideshow": {
     "slide_type": "slide"
    }
   },
   "source": [
    "## Chart"
   ]
  },
  {
   "cell_type": "code",
   "execution_count": 30,
   "metadata": {
    "slideshow": {
     "slide_type": "fragment"
    }
   },
   "outputs": [
    {
     "data": {
      "application/vnd.jupyter.widget-view+json": {
       "model_id": "7fcff16d8850467b95561f47df3d84df",
       "version_major": 2,
       "version_minor": 0
      },
      "text/plain": [
       "VBox(children=(Figure(axes=[Axis(scale=LinearScale()), Axis(orientation='vertical', scale=LinearScale(), tick_…"
      ]
     },
     "metadata": {},
     "output_type": "display_data"
    }
   ],
   "source": [
    "VBox([init_model_chart(),\n",
    "      HBox([init_ohlc_chart(), init_tickchart(),]),\n",
    "      HBox([pies_chart(), bidask_bar_chart(), ]),\n",
    "     ])"
   ]
  },
  {
   "cell_type": "markdown",
   "metadata": {
    "slideshow": {
     "slide_type": "fragment"
    }
   },
   "source": [
    "![gif](https://raw.githubusercontent.com/Sinotrade/Sinotrade.github.io/master/images/model_binding.gif)"
   ]
  },
  {
   "cell_type": "markdown",
   "metadata": {
    "slideshow": {
     "slide_type": "subslide"
    }
   },
   "source": [
    "## Subscribe Quote"
   ]
  },
  {
   "cell_type": "code",
   "execution_count": 31,
   "metadata": {
    "slideshow": {
     "slide_type": "fragment"
    }
   },
   "outputs": [],
   "source": [
    "TXFR1 = api.Contracts.Futures.TXF.TXF201904\n",
    "TSE2330 = api.Contracts.Stocks.TSE.TSE2330"
   ]
  },
  {
   "cell_type": "code",
   "execution_count": 32,
   "metadata": {
    "slideshow": {
     "slide_type": "fragment"
    }
   },
   "outputs": [
    {
     "name": "stdout",
     "output_type": "stream",
     "text": [
      "Respone Code: 200 | Event Code: 16 | Event: Subscribe or Unsubscribe ok\n",
      "Respone Code: 200 | Event Code: 16 | Event: Subscribe or Unsubscribe ok\n",
      "Respone Code: 200 | Event Code: 16 | Event: Subscribe or Unsubscribe ok\n",
      "Respone Code: 200 | Event Code: 16 | Event: Subscribe or Unsubscribe ok\n"
     ]
    }
   ],
   "source": [
    "api.quote.subscribe(TXFR1)\n",
    "api.quote.subscribe(TXFR1, quote_type='bidask')\n",
    "api.quote.subscribe(TSE2330)\n",
    "api.quote.subscribe(TSE2330, quote_type='bidask')"
   ]
  },
  {
   "cell_type": "markdown",
   "metadata": {
    "slideshow": {
     "slide_type": "slide"
    }
   },
   "source": [
    "## Place order in quote callback?\n",
    "\n",
    "- use global to let Shioaji Object work fine\n",
    "- c++ call quote callback will borrow python interpreter only when interact with python\n",
    "- when the process back to c++ thread will release the blocking\n",
    "- It is not recommended to do that the thing spend too much time in the callback function"
   ]
  },
  {
   "cell_type": "code",
   "execution_count": 112,
   "metadata": {
    "slideshow": {
     "slide_type": "fragment"
    }
   },
   "outputs": [],
   "source": [
    "@sj.on_quote\n",
    "def quote_callback(topic, quote_msg):\n",
    "    global api"
   ]
  },
  {
   "cell_type": "markdown",
   "metadata": {
    "slideshow": {
     "slide_type": "subslide"
    }
   },
   "source": [
    "## CNN model inference performance"
   ]
  },
  {
   "cell_type": "code",
   "execution_count": 100,
   "metadata": {
    "slideshow": {
     "slide_type": "fragment"
    }
   },
   "outputs": [
    {
     "name": "stdout",
     "output_type": "stream",
     "text": [
      "28 µs ± 353 ns per loop (mean ± std. dev. of 7 runs, 10000 loops each)\n"
     ]
    }
   ],
   "source": [
    "%%timeit\n",
    "input_x = ((np_features - norm_min) / norm_range)[np.newaxis,:,:,np.newaxis]"
   ]
  },
  {
   "cell_type": "code",
   "execution_count": 102,
   "metadata": {
    "slideshow": {
     "slide_type": "fragment"
    }
   },
   "outputs": [
    {
     "name": "stdout",
     "output_type": "stream",
     "text": [
      "2.91 ms ± 98.8 µs per loop (mean ± std. dev. of 7 runs, 100 loops each)\n"
     ]
    }
   ],
   "source": [
    "%%timeit\n",
    "model.predict(input_x)"
   ]
  },
  {
   "cell_type": "markdown",
   "metadata": {
    "slideshow": {
     "slide_type": "subslide"
    }
   },
   "source": [
    "## Basic way for simplify the callback job for just push the quote msg to queue "
   ]
  },
  {
   "cell_type": "code",
   "execution_count": 114,
   "metadata": {
    "slideshow": {
     "slide_type": "fragment"
    }
   },
   "outputs": [],
   "source": [
    "storage_quote = {}\n",
    "@sj.on_quote\n",
    "def quote_callback(topic, quote_msg):\n",
    "    global storage_quote\n",
    "    if topic not in storage_quote:\n",
    "        storage_quote[topic] = [quote_msg]\n",
    "    else:\n",
    "        storage_quote[topic].append(quote_msg)\n",
    "\n",
    "api.quote.set_callback(quote_callback)"
   ]
  },
  {
   "cell_type": "markdown",
   "metadata": {
    "slideshow": {
     "slide_type": "subslide"
    }
   },
   "source": [
    "## Use redis for cross instance and cross language to get the quote"
   ]
  },
  {
   "cell_type": "code",
   "execution_count": 111,
   "metadata": {
    "slideshow": {
     "slide_type": "fragment"
    }
   },
   "outputs": [
    {
     "name": "stdout",
     "output_type": "stream",
     "text": [
      "Requirement already satisfied: redis in /Users/Tanni/.pyenv/versions/miniconda3-latest/lib/python3.7/site-packages (3.2.1)\n",
      "Requirement already satisfied: msgpack in /Users/Tanni/.pyenv/versions/miniconda3-latest/lib/python3.7/site-packages (0.6.1)\n"
     ]
    }
   ],
   "source": [
    "! pip install redis msgpack"
   ]
  },
  {
   "cell_type": "code",
   "execution_count": 109,
   "metadata": {
    "slideshow": {
     "slide_type": "fragment"
    }
   },
   "outputs": [],
   "source": [
    "import redis\n",
    "import msgpack\n",
    "rs = redis.Redis(host='localhost', port=6666)"
   ]
  },
  {
   "cell_type": "code",
   "execution_count": 110,
   "metadata": {
    "slideshow": {
     "slide_type": "fragment"
    }
   },
   "outputs": [],
   "source": [
    "@sj.on_quote\n",
    "def quote_callback(topic, quote_msg):\n",
    "    rs.rpush(topic, msgpack.dumps(quote_msg))\n",
    "    \n",
    "api.quote.set_callback(quote_callback)"
   ]
  },
  {
   "cell_type": "markdown",
   "metadata": {
    "slideshow": {
     "slide_type": "subslide"
    }
   },
   "source": [
    "## Some advanced alternative\n",
    "- [Arrow](https://arrow.apache.org/)\n",
    "- [GCP DataFlow](https://cloud.google.com/dataflow/)\n",
    "- [Spark Streaming](https://spark.apache.org/streaming/)\n",
    "- [Flink](https://flink.apache.org/)\n",
    "- [Hive](https://hive.apache.org/)"
   ]
  }
 ],
 "metadata": {
  "celltoolbar": "Slideshow",
  "kernelspec": {
   "display_name": "Python 3 (ipykernel)",
   "language": "python",
   "name": "python3"
  },
  "language_info": {
   "codemirror_mode": {
    "name": "ipython",
    "version": 3
   },
   "file_extension": ".py",
   "mimetype": "text/x-python",
   "name": "python",
   "nbconvert_exporter": "python",
   "pygments_lexer": "ipython3",
   "version": "3.10.16"
  }
 },
 "nbformat": 4,
 "nbformat_minor": 4
}
